{
 "cells": [
  {
   "cell_type": "markdown",
   "metadata": {},
   "source": [
    "# LAB | Pseudocode Using Python\n",
    "\n",
    "## Overview\n",
    "\n",
    "This exercise will help you practice writing pseudocode and translating it into Python code. Pseudocode is a way to describe algorithms in a human-readable format, which can then be implemented in programming languages.\n",
    "\n"
   ]
  },
  {
   "cell_type": "markdown",
   "metadata": {},
   "source": [
    "### Exercise 1: Multiply Two Numbers\n",
    "\n",
    "Write a pseudocode to read two numbers and multiply them together. Then, write the equivalent Python code."
   ]
  },
  {
   "cell_type": "markdown",
   "metadata": {},
   "source": [
    "<!-- Add your pseudocode here -->"
   ]
  },
  {
   "cell_type": "code",
   "execution_count": 1,
   "metadata": {},
   "outputs": [
    {
     "name": "stdout",
     "output_type": "stream",
     "text": [
      "The product is: 240.0\n"
     ]
    }
   ],
   "source": [
    "# START\n",
    "#   PROMPT user to enter first number\n",
    "#   READ first number\n",
    "#   PROMPT user to enter second number\n",
    "#   READ second number\n",
    "#   MULTIPLY first number by second number\n",
    "#   DISPLAY the result\n",
    "# END\n",
    "\n",
    "# Prompt the user for input\n",
    "num1 = float(input(\"Enter the first number: \"))\n",
    "num2 = float(input(\"Enter the second number: \"))\n",
    "\n",
    "# Multiply the two numbers\n",
    "product = num1 * num2\n",
    "\n",
    "# Display the result\n",
    "print(\"The product is:\", product)\n"
   ]
  },
  {
   "cell_type": "markdown",
   "metadata": {},
   "source": [
    "### Exercise 2: Check Even or Odd\n",
    "\n",
    "Write pseudocode that checks if a number is even or odd and prints the result. Then, write the equivalent Python code."
   ]
  },
  {
   "cell_type": "markdown",
   "metadata": {},
   "source": [
    "<!-- Add your pseudocode here -->"
   ]
  },
  {
   "cell_type": "code",
   "execution_count": 3,
   "metadata": {},
   "outputs": [
    {
     "name": "stdout",
     "output_type": "stream",
     "text": [
      "23\n",
      "The number is odd\n"
     ]
    }
   ],
   "source": [
    "# START\n",
    "#   PROMPT user to enter a number\n",
    "#   READ number\n",
    "#   IF number modulo 2 equals 0 THEN\n",
    "#     DISPLAY \"The number is even\"\n",
    "#   ELSE\n",
    "#     DISPLAY \"The number is odd\"\n",
    "# END\n",
    "\n",
    "# Prompt the user for input\n",
    "number = int(input(\"Enter a number: \"))\n",
    "print (number)\n",
    "\n",
    "# Check if the number is even or odd\n",
    "if number % 2 == 0:\n",
    "    print(\"The number is even\")\n",
    "else:\n",
    "    print(\"The number is odd\")"
   ]
  },
  {
   "cell_type": "markdown",
   "metadata": {},
   "source": [
    "### Exercise 3: Sum of First N Natural Numbers\n",
    "\n",
    "Write pseudocode to calculate the sum of the first N natural numbers. Then, write the equivalent Python code."
   ]
  },
  {
   "cell_type": "markdown",
   "metadata": {},
   "source": [
    "<!-- Add your pseudocode here -->"
   ]
  },
  {
   "cell_type": "code",
   "execution_count": 5,
   "metadata": {},
   "outputs": [
    {
     "name": "stdout",
     "output_type": "stream",
     "text": [
      "83\n",
      "The sum of the first 83 natural numbers is: 3486\n"
     ]
    }
   ],
   "source": [
    "# START\n",
    "#   PROMPT user to enter a number N\n",
    "#   READ N\n",
    "#   SET sum to 0\n",
    "#   FOR i from 1 to N DO\n",
    "#     ADD i to sum\n",
    "#   END FOR\n",
    "#   DISPLAY sum\n",
    "# END\n",
    "\n",
    "# Prompt the user for input\n",
    "N = int(input(\"Enter a positive integer N: \"))\n",
    "print(N)\n",
    "\n",
    "# Initialize sum\n",
    "total = 0\n",
    "\n",
    "# Loop to add first N natural numbers\n",
    "for i in range(1, N + 1):\n",
    "    total += i\n",
    "\n",
    "# Display the result\n",
    "print(\"The sum of the first\", N, \"natural numbers is:\", total)\n"
   ]
  },
  {
   "cell_type": "markdown",
   "metadata": {},
   "source": [
    "### Exercise 4: Find Maximum of Three Numbers\n",
    "\n",
    "Write pseudocode that finds the maximum of three numbers entered by the user. Then, write the equivalent Python code."
   ]
  },
  {
   "cell_type": "markdown",
   "metadata": {},
   "source": [
    "<!-- Add your pseudocode here -->"
   ]
  },
  {
   "cell_type": "code",
   "execution_count": 6,
   "metadata": {},
   "outputs": [
    {
     "name": "stdout",
     "output_type": "stream",
     "text": [
      "You entered: 12.0 3.0 42.0\n",
      "The maximum number is: 42.0\n"
     ]
    }
   ],
   "source": [
    "# START\n",
    "#   PROMPT user to enter first number\n",
    "#   READ num1\n",
    "#   PROMPT user to enter second number\n",
    "#   READ num2\n",
    "#   PROMPT user to enter third number\n",
    "#   READ num3\n",
    "\n",
    "#   DISPLAY \"You entered:\", num1, num2, num3\n",
    "\n",
    "# Ask the user to enter three numbers\n",
    "num1 = float(input(\"Enter the first number: \"))\n",
    "num2 = float(input(\"Enter the second number: \"))\n",
    "num3 = float(input(\"Enter the third number: \"))\n",
    "\n",
    "# Display the numbers entered\n",
    "print(\"You entered:\", num1, num2, num3)\n",
    "\n",
    "# Determine the maximum\n",
    "if num1 >= num2 and num1 >= num3:\n",
    "    max_num = num1\n",
    "elif num2 >= num1 and num2 >= num3:\n",
    "    max_num = num2\n",
    "else:\n",
    "    max_num = num3\n",
    "\n",
    "# Display the maximum number\n",
    "print(\"The maximum number is:\", max_num)"
   ]
  },
  {
   "cell_type": "markdown",
   "metadata": {},
   "source": [
    "### Exercise 5: Count Vowels in a String\n",
    "\n",
    "Write pseudocode to count the number of vowels in a given string and print the count. Then, write the equivalent Python code."
   ]
  },
  {
   "cell_type": "markdown",
   "metadata": {},
   "source": [
    "<!-- Add your pseudocode here -->"
   ]
  },
  {
   "cell_type": "code",
   "execution_count": 9,
   "metadata": {},
   "outputs": [
    {
     "name": "stdout",
     "output_type": "stream",
     "text": [
      "honeyBadger\n",
      "Number of vowels: 4\n"
     ]
    }
   ],
   "source": [
    "# START\n",
    "#   PROMPT user to enter a string\n",
    "#   READ input_string\n",
    "#   SET vowel_count to 0\n",
    "#   FOR each character in input_string DO\n",
    "#     CONVERT character to lowercase\n",
    "#     IF character is 'a' or 'e' or 'i' or 'o' or 'u' THEN\n",
    "#       INCREMENT vowel_count by 1\n",
    "#     END IF\n",
    "#   END FOR\n",
    "#   DISPLAY \"Number of vowels:\", vowel_count\n",
    "# END\n",
    "\n",
    "# Prompt the user for input\n",
    "input_string = input(\"Enter a word: \")\n",
    "print(input_string)\n",
    "\n",
    "# Initialize vowel count\n",
    "vowel_count = 0\n",
    "\n",
    "# Check each character\n",
    "for char in input_string:\n",
    "    if char.lower() in 'aeiou':\n",
    "        vowel_count += 1\n",
    "\n",
    "# Display the result\n",
    "print(\"Number of vowels:\", vowel_count)\n"
   ]
  },
  {
   "cell_type": "markdown",
   "metadata": {},
   "source": [
    "## Bonus Exercises\n",
    "\n",
    "### Bonus Exercise 6: Reverse a String\n",
    "\n",
    "Write pseudocode to reverse a given string and print it out."
   ]
  },
  {
   "cell_type": "markdown",
   "metadata": {},
   "source": [
    "<!-- Add your pseudocode here -->"
   ]
  },
  {
   "cell_type": "code",
   "execution_count": 10,
   "metadata": {},
   "outputs": [
    {
     "name": "stdout",
     "output_type": "stream",
     "text": [
      "Original string: metropolis\n",
      "Reversed string: siloportem\n"
     ]
    }
   ],
   "source": [
    "# START\n",
    "#   PROMPT user to enter a string\n",
    "#   READ input_string\n",
    "#   SET reversed_string to empty string\n",
    "#   FOR each character in input_string from end to start DO\n",
    "#     ADD character to reversed_string\n",
    "#   END FOR\n",
    "#   DISPLAY \"Original string:\", input_string\n",
    "#   DISPLAY \"Reversed string:\", reversed_string\n",
    "# END\n",
    "\n",
    "# Ask the user for input\n",
    "input_string = input(\"Enter a string: \")\n",
    "\n",
    "# Reverse the string\n",
    "reversed_string = input_string[::-1]\n",
    "\n",
    "# Display original and reversed strings\n",
    "print(\"Original string:\", input_string)\n",
    "print(\"Reversed string:\", reversed_string)\n",
    "\n"
   ]
  },
  {
   "cell_type": "markdown",
   "metadata": {},
   "source": [
    "### Bonus Exercise 7: Print Multiplication Table of a Number\n",
    "\n",
    "Write pseudocode to print the multiplication table of a given number up to 10."
   ]
  },
  {
   "cell_type": "markdown",
   "metadata": {},
   "source": [
    "<!-- Add your pseudocode here -->"
   ]
  },
  {
   "cell_type": "code",
   "execution_count": 11,
   "metadata": {},
   "outputs": [
    {
     "name": "stdout",
     "output_type": "stream",
     "text": [
      "8\n",
      "8 x 1 = 8\n",
      "8 x 2 = 16\n",
      "8 x 3 = 24\n",
      "8 x 4 = 32\n",
      "8 x 5 = 40\n",
      "8 x 6 = 48\n",
      "8 x 7 = 56\n",
      "8 x 8 = 64\n",
      "8 x 9 = 72\n",
      "8 x 10 = 80\n"
     ]
    }
   ],
   "source": [
    "# START\n",
    "#   PROMPT user to enter a number\n",
    "#   READ number\n",
    "#   FOR i from 1 to 10 DO\n",
    "#     CALCULATE product = number * i\n",
    "#     DISPLAY number, \"x\", i, \"=\", product\n",
    "#   END FOR\n",
    "# END\n",
    "\n",
    "# Prompt the user to enter a number\n",
    "number = int(input(\"Enter a number to display its multiplication table: \"))\n",
    "print(number)\n",
    "\n",
    "# Print the multiplication table up to 10\n",
    "for i in range(1, 11):\n",
    "    product = number * i\n",
    "    print(f\"{number} x {i} = {product}\")\n"
   ]
  },
  {
   "cell_type": "markdown",
   "metadata": {},
   "source": [
    "### Bonus Exercise 8: Count Words in a String\n",
    "\n",
    "Write pseudocode that counts the words in a given string and prints the result."
   ]
  },
  {
   "cell_type": "markdown",
   "metadata": {},
   "source": [
    "<!-- Add your pseudocode here -->"
   ]
  },
  {
   "cell_type": "code",
   "execution_count": 12,
   "metadata": {},
   "outputs": [
    {
     "name": "stdout",
     "output_type": "stream",
     "text": [
      "Nice! You entered: Dirty Boots\n",
      "Number of words: 2\n"
     ]
    }
   ],
   "source": [
    "# START\n",
    "#   PROMPT user to enter a string\n",
    "#   READ input_string\n",
    "#   DISPLAY \"You entered:\", input_string\n",
    "#   SPLIT input_string into words using spaces\n",
    "#   COUNT the number of words\n",
    "#   DISPLAY \"Number of words:\", word_count\n",
    "# END\n",
    "\n",
    "# Prompt the user for input\n",
    "input_string = input(\"Enter a string: \")\n",
    "\n",
    "# Display the entered string\n",
    "print(\"Nice! You entered:\", input_string)\n",
    "\n",
    "# Split the string into words and count them\n",
    "words = input_string.split()\n",
    "word_count = len(words)\n",
    "\n",
    "# Display the result\n",
    "print(\"Number of words:\", word_count)\n"
   ]
  },
  {
   "cell_type": "markdown",
   "metadata": {},
   "source": [
    "### Bonus Exercise 9: Find Factorial of a Number\n",
    "\n",
    "Write pseudocode that calculates the factorial of a given positive integer."
   ]
  },
  {
   "cell_type": "markdown",
   "metadata": {},
   "source": [
    "<!-- Add your pseudocode here -->"
   ]
  },
  {
   "cell_type": "code",
   "execution_count": 14,
   "metadata": {},
   "outputs": [
    {
     "name": "stdout",
     "output_type": "stream",
     "text": [
      "You entered: 7\n",
      "Factorial is: 5040\n"
     ]
    }
   ],
   "source": [
    "# START\n",
    "#   PROMPT user to enter a positive integer\n",
    "#   READ number\n",
    "#   DISPLAY \"You entered:\", number\n",
    "\n",
    "#   IF number is 0 or 1 THEN\n",
    "#     SET factorial to 1\n",
    "#   ELSE\n",
    "#     SET factorial to 1\n",
    "#     FOR i from 2 to number DO\n",
    "#       SET factorial = factorial * i\n",
    "#     END FOR\n",
    "#   END IF\n",
    "\n",
    "#   DISPLAY \"Factorial is:\", factorial\n",
    "# END\n",
    "\n",
    "# Ask the user for input\n",
    "number = int(input(\"Please enter a positive integer: \"))\n",
    "\n",
    "# Display the entered number\n",
    "print(\"You entered:\", number)\n",
    "\n",
    "# Calculate factorial\n",
    "if number == 0 or number == 1:\n",
    "    factorial = 1\n",
    "else:\n",
    "    factorial = 1\n",
    "    for i in range(2, number + 1):\n",
    "        factorial *= i\n",
    "\n",
    "# Display the result\n",
    "print(\"Factorial is:\", factorial)\n"
   ]
  },
  {
   "cell_type": "markdown",
   "metadata": {},
   "source": [
    "### Bonus Exercise 10: FizzBuzz Problem\n",
    "\n",
    "Write pseudocode for the FizzBuzz problem where you print numbers from 1 to N but replace multiples of three with \"Fizz\" and multiples of five with \"Buzz\"."
   ]
  },
  {
   "cell_type": "markdown",
   "metadata": {},
   "source": [
    "<!-- Add your pseudocode here -->"
   ]
  },
  {
   "cell_type": "code",
   "execution_count": 16,
   "metadata": {},
   "outputs": [
    {
     "name": "stdout",
     "output_type": "stream",
     "text": [
      "You entered: 7\n",
      "1\n",
      "2\n",
      "Fizz\n",
      "4\n",
      "Buzz\n",
      "Fizz\n",
      "7\n"
     ]
    }
   ],
   "source": [
    "# START\n",
    "#   PROMPT user to enter a positive integer N\n",
    "#   READ N\n",
    "#   DISPLAY \"You entered:\", N\n",
    "\n",
    "#   FOR i from 1 to N DO\n",
    "#     IF i is divisible by 3 AND i is divisible by 5 THEN\n",
    "#       DISPLAY \"FizzBuzz\"\n",
    "#     ELSE IF i is divisible by 3 THEN\n",
    "#       DISPLAY \"Fizz\"\n",
    "#     ELSE IF i is divisible by 5 THEN\n",
    "#       DISPLAY \"Buzz\"\n",
    "#     ELSE\n",
    "#       DISPLAY i\n",
    "#     END IF\n",
    "#   END FOR\n",
    "# END\n",
    "\n",
    "# Prompt the user to enter a number\n",
    "N = int(input(\"Enter a positive integer N: \"))\n",
    "\n",
    "# Display the user's input\n",
    "print(\"You entered:\", N)\n",
    "\n",
    "# FizzBuzz logic\n",
    "for i in range(1, N + 1):\n",
    "    if i % 3 == 0 and i % 5 == 0:\n",
    "        print(\"FizzBuzz\")\n",
    "    elif i % 3 == 0:\n",
    "        print(\"Fizz\")\n",
    "    elif i % 5 == 0:\n",
    "        print(\"Buzz\")\n",
    "    else:\n",
    "        print(i)\n",
    "\n"
   ]
  }
 ],
 "metadata": {
  "kernelspec": {
   "display_name": "base",
   "language": "python",
   "name": "python3"
  },
  "language_info": {
   "codemirror_mode": {
    "name": "ipython",
    "version": 3
   },
   "file_extension": ".py",
   "mimetype": "text/x-python",
   "name": "python",
   "nbconvert_exporter": "python",
   "pygments_lexer": "ipython3",
   "version": "3.11.5"
  }
 },
 "nbformat": 4,
 "nbformat_minor": 2
}
